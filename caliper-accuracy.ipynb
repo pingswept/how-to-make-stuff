{
 "cells": [
  {
   "cell_type": "code",
   "execution_count": 45,
   "metadata": {
    "collapsed": true
   },
   "outputs": [],
   "source": [
    "%matplotlib inline\n",
    "import numpy as np\n",
    "import pandas as pd"
   ]
  },
  {
   "cell_type": "markdown",
   "metadata": {},
   "source": [
    "### Caliper accuracy vs. price ###\n",
    "\n",
    "In the realm of mechanical engineering, we use calipers to measure stuff precisely. I wanted to figure out whether it was worth buying the expensive Mitutoyo calipers made in Japan, or are the variously branded and re-branded cheap calipers made in China and sold through Amazon just as good?\n",
    "\n",
    "Below, we see 5 pairs of calipers:\n",
    "\n",
    " * Mechanical calipers that were expensive (~\\$100) when I bought them in 1999\n",
    " * Cheap (\\$25) \"Pittsburgh\" calipers from my friend Dan\n",
    " * Cheap (\\$25) \"Pittsburgh\" calipers from my other friend Chris\n",
    " * Expensive (~\\$100) Mitutoyo 500-196 calipers with around 10 years of use\n",
    " * Expensive (\\$93.99) Mitutoyo 500-196-30 calipers, new out of the box today\n",
    "\n",
    "I put \"Pittsburgh\" in quotes because it's just a sticker that Harbor Freight, a tool importer, puts on their tools. You can find nearly identical pairs of calipers with different stickers on them on Amazon: \"Neiko\", \"Vinca\", \"Calipro\", \"Bolight\", \"iGaging\", \"Ubante\", and so forth. They cost as little as \\$12.50, up to \\$25 or so, which is 4-8 times cheaper than the fancy Mitutoyo calipers.\n",
    "\n",
    "<img src=\"img/calipers.jpg\" alt=\"5 pairs of calipers and a gauge block\" style=\"width: 400px;\"/>\n",
    "\n",
    "To judge the accuracy of calipers, you need an accurate reference to compare again. I used a 1\" gauge block from a set of grade 2 Mitutoyo 516-914 gauge blocks.\n",
    "\n",
    "<img src=\"img/set-of-gauge-blocks.jpg\" alt=\"A set of gauge blocks\" style=\"width: 400px;\"/>\n",
    "<img src=\"img/one-inch-gauge-block.jpg\" alt=\"A gauge block\" style=\"width: 400px;\"/>\n",
    "\n",
    "The [NIST Gauge Block Handbook](https://www.nist.gov/sites/default/files/documents/calibrations/mono180.pdf), page 8, says that at 1 \" size grade 2 blocks should be accurate to within +4 or -2 microinches. (That's +0.000004 and -0.000002 inches.) The calipers only resolve to the nearest 0.0005\", so if the NIST handbook is to be believed, the gauge block is machined at least 100 times more accurately than the calipers can measure.\n",
    "\n",
    "### Measurement procedure ###\n",
    "\n",
    "Before each caliper test, I wiped the gauge block and calipers with a paper towel to clean off dust and grime. I measured the block 5 times with each pair of calipers and opened the calipers by at least 0.25\" in between measurements."
   ]
  },
  {
   "cell_type": "code",
   "execution_count": 52,
   "metadata": {
    "collapsed": true
   },
   "outputs": [],
   "source": [
    "# The results\n",
    "data = {\n",
    "    \"Mitutoyo mechanical, 1999\": [1.0017, 1.0018, 1.0017, 1.0015, 1.0012],\n",
    "    \"Pittsburgh 68304\":          [0.9995, 1.0000, 0.9995, 0.9995, 0.9995],\n",
    "    \"Pittsburgh 61585\":          [1.0015, 1.0015, 1.0010, 1.0020, 1.0010],\n",
    "    \"Mitutoyo 500-196, 2008\":    [1.0000, 0.9995, 1.0000, 0.9990, 0.9990],\n",
    "    \"Mitutoyo 500-196-30, 2017\": [1.0000, 1.0000, 1.0000, 1.0000, 1.0000]\n",
    "}"
   ]
  },
  {
   "cell_type": "code",
   "execution_count": 57,
   "metadata": {},
   "outputs": [
    {
     "data": {
      "text/html": [
       "<div>\n",
       "<style>\n",
       "    .dataframe thead tr:only-child th {\n",
       "        text-align: right;\n",
       "    }\n",
       "\n",
       "    .dataframe thead th {\n",
       "        text-align: left;\n",
       "    }\n",
       "\n",
       "    .dataframe tbody tr th {\n",
       "        vertical-align: top;\n",
       "    }\n",
       "</style>\n",
       "<table border=\"1\" class=\"dataframe\">\n",
       "  <thead>\n",
       "    <tr style=\"text-align: right;\">\n",
       "      <th></th>\n",
       "      <th>Mitutoyo 500-196, 2008</th>\n",
       "      <th>Mitutoyo 500-196-30, 2017</th>\n",
       "      <th>Mitutoyo mechanical, 1999</th>\n",
       "      <th>Pittsburgh 61585</th>\n",
       "      <th>Pittsburgh 68304</th>\n",
       "    </tr>\n",
       "  </thead>\n",
       "  <tbody>\n",
       "    <tr>\n",
       "      <th>0</th>\n",
       "      <td>1.0000</td>\n",
       "      <td>1.0</td>\n",
       "      <td>1.0017</td>\n",
       "      <td>1.0015</td>\n",
       "      <td>0.9995</td>\n",
       "    </tr>\n",
       "    <tr>\n",
       "      <th>1</th>\n",
       "      <td>0.9995</td>\n",
       "      <td>1.0</td>\n",
       "      <td>1.0018</td>\n",
       "      <td>1.0015</td>\n",
       "      <td>1.0000</td>\n",
       "    </tr>\n",
       "    <tr>\n",
       "      <th>2</th>\n",
       "      <td>1.0000</td>\n",
       "      <td>1.0</td>\n",
       "      <td>1.0017</td>\n",
       "      <td>1.0010</td>\n",
       "      <td>0.9995</td>\n",
       "    </tr>\n",
       "    <tr>\n",
       "      <th>3</th>\n",
       "      <td>0.9990</td>\n",
       "      <td>1.0</td>\n",
       "      <td>1.0015</td>\n",
       "      <td>1.0020</td>\n",
       "      <td>0.9995</td>\n",
       "    </tr>\n",
       "    <tr>\n",
       "      <th>4</th>\n",
       "      <td>0.9990</td>\n",
       "      <td>1.0</td>\n",
       "      <td>1.0012</td>\n",
       "      <td>1.0010</td>\n",
       "      <td>0.9995</td>\n",
       "    </tr>\n",
       "  </tbody>\n",
       "</table>\n",
       "</div>"
      ],
      "text/plain": [
       "   Mitutoyo 500-196, 2008  Mitutoyo 500-196-30, 2017  \\\n",
       "0                  1.0000                        1.0   \n",
       "1                  0.9995                        1.0   \n",
       "2                  1.0000                        1.0   \n",
       "3                  0.9990                        1.0   \n",
       "4                  0.9990                        1.0   \n",
       "\n",
       "   Mitutoyo mechanical, 1999  Pittsburgh 61585  Pittsburgh 68304  \n",
       "0                     1.0017            1.0015            0.9995  \n",
       "1                     1.0018            1.0015            1.0000  \n",
       "2                     1.0017            1.0010            0.9995  \n",
       "3                     1.0015            1.0020            0.9995  \n",
       "4                     1.0012            1.0010            0.9995  "
      ]
     },
     "execution_count": 57,
     "metadata": {},
     "output_type": "execute_result"
    }
   ],
   "source": [
    "df = pd.DataFrame(data)\n",
    "df"
   ]
  },
  {
   "cell_type": "code",
   "execution_count": 55,
   "metadata": {},
   "outputs": [
    {
     "data": {
      "text/plain": [
       "Mitutoyo 500-196, 2008       0.50\n",
       "Mitutoyo 500-196-30, 2017    0.00\n",
       "Mitutoyo mechanical, 1999    1.58\n",
       "Pittsburgh 61585             1.40\n",
       "Pittsburgh 68304             0.40\n",
       "dtype: float64"
      ]
     },
     "execution_count": 55,
     "metadata": {},
     "output_type": "execute_result"
    }
   ],
   "source": [
    "# Calculate mean error in thousandths of an inch\n",
    "abs(df.mean() - 1.0000) * 1000.0"
   ]
  },
  {
   "cell_type": "code",
   "execution_count": 49,
   "metadata": {},
   "outputs": [
    {
     "data": {
      "text/plain": [
       "Mitutoyo 500-196, 2008       0.50\n",
       "Mitutoyo 500-196-30, 2017    0.00\n",
       "Mitutoyo mechanical, 1999    0.24\n",
       "Pittsburgh 61585             0.42\n",
       "Pittsburgh 68304             0.22\n",
       "dtype: float64"
      ]
     },
     "execution_count": 49,
     "metadata": {},
     "output_type": "execute_result"
    }
   ],
   "source": [
    "# Calculate standard deviation of error in thousandths of an inch\n",
    "round(df.std() * 1000.0, 2)"
   ]
  },
  {
   "cell_type": "markdown",
   "metadata": {
    "collapsed": true
   },
   "source": [
    "### Conclusions ###\n",
    "\n",
    "**The expensive calipers are clearly more accurate than the cheap ones, but the cheap ones are good enough that it may not matter.** The average error in the cheap calipers was less than 0.002\", even for a couple of pairs that had been banging around a makerspace for a few years. For woodworking, electronics, and most mechanical engineering outside of precision machining, the cheap calipers are fine. The most expensive, newest calipers were flawless-- they measured the gauge block as 1.0000\" every time, which is awesome if you find witnessing precision to be a thrilling experience. BUt still, the cheap calipers outperformed expensive mechanical calipers that were thought of as high-end in the 90's, and plenty of good stuff was constructed then.\n",
    "\n",
    "(There are, of course, lots of more expensive calipers that are even more precise than what's described here, but that's another subject.)\n",
    "\n",
    "There are a few other weaknesses of the cheap calipers: in general, the storage cases are shoddy, and the plastic enclosures tend to be ill-fitting and not so durable. The cheap calipers also have to be re-zeroed every time you turn them on, which is annoying.\n",
    "\n",
    "I also noticed that one pair of the calipers had a design flaw: the black plastic enclosure for the electronics protruded past the caliper jaws, so the jaws close 0.007\" short of zero when measuring something rectanglar, as shown below. But you could fix that in a few seconds with a couple strokes of a file on the plastic.\n",
    "\n",
    "<img src=\"img/cheap-calipers-binding-on-casing.jpg\" alt=\"poorly designed calipers\" style=\"width: 400px;\"/>"
   ]
  }
 ],
 "metadata": {
  "kernelspec": {
   "display_name": "Python 3",
   "language": "python",
   "name": "python3"
  },
  "language_info": {
   "codemirror_mode": {
    "name": "ipython",
    "version": 3
   },
   "file_extension": ".py",
   "mimetype": "text/x-python",
   "name": "python",
   "nbconvert_exporter": "python",
   "pygments_lexer": "ipython3",
   "version": "3.4.3"
  }
 },
 "nbformat": 4,
 "nbformat_minor": 2
}

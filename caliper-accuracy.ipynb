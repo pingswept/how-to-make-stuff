{
 "cells": [
  {
   "cell_type": "code",
   "execution_count": 1,
   "metadata": {
    "collapsed": true
   },
   "outputs": [],
   "source": [
    "data = {\n",
    "    \"Mitutoyo mechanical, 1999\": [1.0017, 1.0018, 1.0017, 1.0015, 1.0012],\n",
    "    \"Pittsburgh 68304\":          [0.9995, 1.0000, 0.9995, 0.9995, 0.9995],\n",
    "    \"Pittsburgh 61585\":          [1.0015, 1.0015, 1.0010, 1.0020, 1.0010],\n",
    "    \"Mitutoyo 500-196, 2012\":    [1.0000, 0.9995, 1.0000, 0.9990, 0.9990],\n",
    "    \"Mitutoyo 500-196-30, 2017\": [1.0000, 1.0000, 1.0000, 1.0000, 1.0000]\n",
    "}"
   ]
  }
 ],
 "metadata": {
  "kernelspec": {
   "display_name": "Python 3",
   "language": "python",
   "name": "python3"
  },
  "language_info": {
   "codemirror_mode": {
    "name": "ipython",
    "version": 3
   },
   "file_extension": ".py",
   "mimetype": "text/x-python",
   "name": "python",
   "nbconvert_exporter": "python",
   "pygments_lexer": "ipython3",
   "version": "3.4.3"
  }
 },
 "nbformat": 4,
 "nbformat_minor": 2
}

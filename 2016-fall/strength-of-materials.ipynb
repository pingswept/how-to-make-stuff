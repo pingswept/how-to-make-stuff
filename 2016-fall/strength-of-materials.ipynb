{
 "cells": [
  {
   "cell_type": "code",
   "execution_count": 19,
   "metadata": {
    "collapsed": false
   },
   "outputs": [
    {
     "name": "stdout",
     "output_type": "stream",
     "text": [
      "[  54.   50.   50.   35.   47.   56.  120.    2.    8.    3.   40.  175.]\n",
      "[ 7850.  7850.  7850.  2800.  2800.  2800.  4500.   420.   720.   180.\n",
      "  1600.  1600.]\n"
     ]
    },
    {
     "data": {
      "text/plain": [
       "<matplotlib.text.Text at 0xaf8bbdac>"
      ]
     },
     "execution_count": 19,
     "metadata": {},
     "output_type": "execute_result"
    },
    {
     "data": {
      "image/png": "[encoded data removed]",
      "text/plain": [
       "<matplotlib.figure.Figure at 0xaf861acc>"
      ]
     },
     "metadata": {},
     "output_type": "display_data"
    }
   ],
   "source": [
    "import matplotlib.pyplot as plt\n",
    "%matplotlib inline\n",
    "import numpy as np\n",
    "\n",
    "## Strength of materials ##\n",
    "\n",
    "yield_strength, density = np.loadtxt('strength-to-weight-ratio.csv', skiprows=1, usecols=(2,3), delimiter=',', unpack=True)\n",
    "print(yield_strength)\n",
    "print(density)\n",
    "\n",
    "# Generate data to plot\n",
    "#x = np.linspace(0, 2 * np.pi, 200)\n",
    "#y = np.exp(np.sin(np.sin(x)))\n",
    "#print(x)\n",
    "#print(y)\n",
    "\n",
    "# Make plot\n",
    "plt.plot(density, yield_strength)\n",
    "plt.xlim((0, 10000))\n",
    "plt.ylim((0,200))\n",
    "plt.xlabel(r'density [kg/m^3]')\n",
    "plt.ylabel(r'yield strength [ksi]')"
   ]
  },
  {
   "cell_type": "code",
   "execution_count": null,
   "metadata": {
    "collapsed": true
   },
   "outputs": [],
   "source": []
  }
 ],
 "metadata": {
  "kernelspec": {
   "display_name": "Python 3",
   "language": "python",
   "name": "python3"
  },
  "language_info": {
   "codemirror_mode": {
    "name": "ipython",
    "version": 3
   },
   "file_extension": ".py",
   "mimetype": "text/x-python",
   "name": "python",
   "nbconvert_exporter": "python",
   "pygments_lexer": "ipython3",
   "version": "3.5.2"
  }
 },
 "nbformat": 4,
 "nbformat_minor": 0
}
